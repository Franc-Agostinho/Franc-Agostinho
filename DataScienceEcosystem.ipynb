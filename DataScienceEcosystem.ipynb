{
  "cells": [
    {
      "cell_type": "markdown",
      "metadata": {
        "id": "view-in-github",
        "colab_type": "text"
      },
      "source": [
        "<a href=\"https://colab.research.google.com/github/Franc-Agostinho/Franc-Agostinho/blob/main/DataScienceEcosystem.ipynb\" target=\"_parent\"><img src=\"https://colab.research.google.com/assets/colab-badge.svg\" alt=\"Open In Colab\"/></a>"
      ]
    },
    {
      "cell_type": "markdown",
      "metadata": {
        "id": "oF-hXqgytaK_"
      },
      "source": [
        "<center>\n",
        "    <img src=\"https://cf-courses-data.s3.us.cloud-object-storage.appdomain.cloud/IBMDeveloperSkillsNetwork-DS0105EN-SkillsNetwork/labs/Module2/images/SN_web_lightmode.png\" width=\"300\" alt=\"cognitiveclass.ai logo\">\n",
        "</center>\n"
      ]
    },
    {
      "cell_type": "markdown",
      "source": [
        "***Exercise 1*** - Create a Jupyter Notebook called DataScienceEcosystem.ipynb"
      ],
      "metadata": {
        "id": "SZRgaJ7Wtvfd"
      }
    },
    {
      "cell_type": "markdown",
      "source": [
        "***Exercise 2*** - Create markdown cell with title of the notebook"
      ],
      "metadata": {
        "id": "zGqIEAmTt8rL"
      }
    },
    {
      "cell_type": "markdown",
      "metadata": {
        "id": "goZ7sKmLtaLA"
      },
      "source": [
        "# Data Science Tools and Ecosystem"
      ]
    },
    {
      "cell_type": "markdown",
      "source": [
        "***Exercise 3*** - Create a markdown cell for an introduction"
      ],
      "metadata": {
        "id": "8FwQtEItuF_T"
      }
    },
    {
      "cell_type": "markdown",
      "metadata": {
        "id": "z0I24YiUtaLA"
      },
      "source": [
        "In this notebook, Data Science Tools and Ecosystem are summarized."
      ]
    },
    {
      "cell_type": "markdown",
      "source": [
        "***Exercise 10*** - Insert a markdown cell to list Objectives"
      ],
      "metadata": {
        "id": "sUhuY9NQuzoS"
      }
    },
    {
      "cell_type": "markdown",
      "metadata": {
        "id": "KsETwpMMtaLA"
      },
      "source": [
        "**Objectives:**\n",
        "- Popular languages\n",
        "- Popular Python libraries\n",
        "- Examples of open source Data Science tools\n",
        "- Computing simple arithmetic expressions\n",
        "- Converting minutes to hours using basic operators.\n"
      ]
    },
    {
      "cell_type": "markdown",
      "source": [
        "***Exercise 4*** - Create a markdown cell to list data science languages"
      ],
      "metadata": {
        "id": "Pl22KTfwuLtC"
      }
    },
    {
      "cell_type": "markdown",
      "metadata": {
        "id": "OWgKQ971taLA"
      },
      "source": [
        "Some of the popular languages that Data Scientis use are:\n",
        "\n",
        "1. Python\n",
        "2. R\n",
        "3. SQL\n",
        "4. Scala\n",
        "5. Java\n",
        "6. C++\n",
        "7. Julia"
      ]
    },
    {
      "cell_type": "markdown",
      "source": [
        "***Exercise 5*** - Create a markdown cell to list data science libraries"
      ],
      "metadata": {
        "id": "XAk528QZuTLN"
      }
    },
    {
      "cell_type": "markdown",
      "metadata": {
        "id": "OUKNx48StaLB"
      },
      "source": [
        "Some of the commonly used libraries used by Data Scientists include:\n",
        "\n",
        "1. Pandas\n",
        "2. Numpy\n",
        "3. Matplotlib\n",
        "4. Scikit-learn"
      ]
    },
    {
      "cell_type": "markdown",
      "source": [
        "***Exercise 6*** - Create a markdown cell with a table of Data Science tools"
      ],
      "metadata": {
        "id": "dTC5x2YIudX2"
      }
    },
    {
      "cell_type": "markdown",
      "metadata": {
        "id": "kER7QjBwtaLB"
      },
      "source": [
        "|Data Science Tools|\n",
        "| ----------------- |\n",
        "|PixieDust|\n",
        "|Kibana|\n",
        "|Seldon|"
      ]
    },
    {
      "cell_type": "markdown",
      "source": [
        "***Exercise 7*** - Create a markdown cell introducing arithmetic expression examples"
      ],
      "metadata": {
        "id": "Pmo0mZEhugin"
      }
    },
    {
      "cell_type": "markdown",
      "metadata": {
        "id": "FR8SYeButaLB"
      },
      "source": [
        "### Below are a few examples of evaluating arithmetic expressions in Python"
      ]
    },
    {
      "cell_type": "markdown",
      "source": [
        "***Exercise 8*** - Create a code cell to multiply and add numbers"
      ],
      "metadata": {
        "id": "S48AC4Houoht"
      }
    },
    {
      "cell_type": "code",
      "execution_count": null,
      "metadata": {
        "id": "V9z14CB7taLB",
        "outputId": "1499fd56-4300-4f5b-fc40-720ca61ff93c"
      },
      "outputs": [
        {
          "data": {
            "text/plain": [
              "17"
            ]
          },
          "execution_count": 6,
          "metadata": {},
          "output_type": "execute_result"
        }
      ],
      "source": [
        "# The is a simple arithmetic expression involving integers\n",
        "\n",
        "(3*4)+5"
      ]
    },
    {
      "cell_type": "markdown",
      "source": [
        "***Exercise 9*** - Create a code cell to convert minutes to hours"
      ],
      "metadata": {
        "id": "39sBhWxHusRq"
      }
    },
    {
      "cell_type": "code",
      "execution_count": null,
      "metadata": {
        "id": "QOj5Sj4LtaLC",
        "outputId": "b7678d92-052b-4779-d5f3-56a6c3844843"
      },
      "outputs": [
        {
          "data": {
            "text/plain": [
              "3.3333333333333335"
            ]
          },
          "execution_count": 5,
          "metadata": {},
          "output_type": "execute_result"
        }
      ],
      "source": [
        "# This will convert minutes into hours by dividing by 60\n",
        "\n",
        "200 // 60 +(200 % 60)/60"
      ]
    },
    {
      "cell_type": "markdown",
      "source": [
        "***Exercise 11*** - Create a markdown cell to indicate the Author's name"
      ],
      "metadata": {
        "id": "x5el74YtvELl"
      }
    },
    {
      "cell_type": "markdown",
      "metadata": {
        "id": "miuNQKqvtaLC"
      },
      "source": [
        "## Author\n",
        "\n",
        "Francisco Cristóvão Agostinho"
      ]
    }
  ],
  "metadata": {
    "kernelspec": {
      "display_name": "Python 3 (ipykernel)",
      "language": "python",
      "name": "python3"
    },
    "language_info": {
      "codemirror_mode": {
        "name": "ipython",
        "version": 3
      },
      "file_extension": ".py",
      "mimetype": "text/x-python",
      "name": "python",
      "nbconvert_exporter": "python",
      "pygments_lexer": "ipython3",
      "version": "3.12.8"
    },
    "colab": {
      "provenance": [],
      "include_colab_link": true
    }
  },
  "nbformat": 4,
  "nbformat_minor": 0
}